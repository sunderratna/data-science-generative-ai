{
 "cells": [
  {
   "cell_type": "markdown",
   "id": "74f1086f-2c01-40c9-95b2-1c51d5948f37",
   "metadata": {},
   "source": [
    "# Identifier and its Rules\n",
    "\n",
    "## Definition\n",
    "An identifier is the name we give to identify entities like variables, functions, classes, etc.\n",
    "\n",
    "## Rules\n",
    "1. Identifiers are case sensitive.\n",
    "2. Special characters are not allowed.\n",
    "3. Identifiers never start with a digit.\n",
    "4. Keywords cannot be used as identifiers.\n",
    "5. Only the underscore (_) is allowed as a special character.\n",
    "6. The user needs to call the identifier with the same name (identifiers have no length limit).\n",
    "\n",
    "            "
   ]
  },
  {
   "cell_type": "markdown",
   "id": "36461d0b-0fb8-459b-aae2-6b5a0c77249c",
   "metadata": {},
   "source": [
    "# Variable\n",
    "Variables are containers for storing values.\n",
    "\n",
    "## Syntax\n",
    "    variablename = value"
   ]
  },
  {
   "cell_type": "code",
   "execution_count": 6,
   "id": "582b5a9b-359a-4da6-9a06-a474e02cf174",
   "metadata": {},
   "outputs": [
    {
     "data": {
      "text/plain": [
       "2"
      ]
     },
     "execution_count": 6,
     "metadata": {},
     "output_type": "execute_result"
    }
   ],
   "source": [
    "num = 2 # basic varibale and value\n",
    "num"
   ]
  },
  {
   "cell_type": "code",
   "execution_count": 10,
   "id": "0d3dc28a-40b4-4650-9133-17be80e21d12",
   "metadata": {},
   "outputs": [
    {
     "ename": "SyntaxError",
     "evalue": "invalid decimal literal (2349507676.py, line 1)",
     "output_type": "error",
     "traceback": [
      "\u001b[1;36m  Cell \u001b[1;32mIn[10], line 1\u001b[1;36m\u001b[0m\n\u001b[1;33m    2num = 6  # variable can't start with a digit, as you can see we get an error\u001b[0m\n\u001b[1;37m    ^\u001b[0m\n\u001b[1;31mSyntaxError\u001b[0m\u001b[1;31m:\u001b[0m invalid decimal literal\n"
     ]
    }
   ],
   "source": [
    "2num = 6  # variable can't start with a digit, as you can see we get an error"
   ]
  },
  {
   "cell_type": "code",
   "execution_count": 1,
   "id": "ecceb3c2-e186-458e-b2d2-a35f481e71ed",
   "metadata": {},
   "outputs": [],
   "source": [
    "_name ='sunder' # we can use underscore"
   ]
  },
  {
   "cell_type": "code",
   "execution_count": 3,
   "id": "8fa9d9b6-644b-40c3-8afb-bdfa778bc337",
   "metadata": {},
   "outputs": [
    {
     "data": {
      "text/plain": [
       "'sunder'"
      ]
     },
     "execution_count": 3,
     "metadata": {},
     "output_type": "execute_result"
    }
   ],
   "source": [
    "_name"
   ]
  },
  {
   "cell_type": "code",
   "execution_count": 14,
   "id": "01bb7438-213d-4df6-bcf8-8fe8ae9e58c0",
   "metadata": {},
   "outputs": [
    {
     "name": "stdout",
     "output_type": "stream",
     "text": [
      "23 75 Sunder\n"
     ]
    }
   ],
   "source": [
    "age, weight, name = 23, 75, 'Sunder'  # assigning values to age, weight, and name\n",
    "print(age,weight, name)"
   ]
  },
  {
   "cell_type": "markdown",
   "id": "4f5920fb-90ed-4164-b58e-0620e1549114",
   "metadata": {},
   "source": [
    "# id() function\r\n",
    "When we store a value in a variable, the Python interpreter stores the value in memory. Each value is associated with a unique memory address. To retrieve this address, we use the `id` function.\r\n"
   ]
  },
  {
   "cell_type": "code",
   "execution_count": 4,
   "id": "9003c1e7-5590-45db-80b7-7ad7519eae81",
   "metadata": {},
   "outputs": [
    {
     "name": "stdout",
     "output_type": "stream",
     "text": [
      "140717706656472\n",
      "140717706656792\n"
     ]
    }
   ],
   "source": [
    "x = 10\n",
    "y = 20\n",
    "print(id(x))  # Prints the memory address of x\n",
    "print(id(y))  # Prints the memory address of y (different from x)"
   ]
  },
  {
   "cell_type": "markdown",
   "id": "720fd0f7-6ee5-4ce4-aa30-628765bf6f46",
   "metadata": {},
   "source": [
    "### Note:\r\n",
    "a. If we observe the last three digits of the memory addresses of two different variables with different values, they are typically different.\r\n",
    "\r\n",
    "b. If we store the same value in two different variables, the memory address for both variables will be the same. Let's check that with the example below:\r\n"
   ]
  },
  {
   "cell_type": "code",
   "execution_count": 2,
   "id": "89ecb7c8-dae6-48c4-9b5c-b77fac607c3e",
   "metadata": {},
   "outputs": [
    {
     "name": "stdout",
     "output_type": "stream",
     "text": [
      "140717706657112\n",
      "140717706657112\n"
     ]
    }
   ],
   "source": [
    "a = 30\n",
    "b = 30\n",
    "print(id(a))  # Prints the memory address of a\n",
    "print(id(b))  # Prints the memory address of b (same as a)"
   ]
  },
  {
   "cell_type": "markdown",
   "id": "95e745e1-91fc-4f34-8de1-78c8af9192d7",
   "metadata": {},
   "source": [
    "--------------------------------------------------------------------------------------------------------------------------------------------------------\n",
    "# Data Types:\n",
    "1.int- Represents integer values without decimals.\n",
    "\n",
    "2.float- Represents floating-point values (numbers with decimals).\n",
    "\n",
    "3.bool- Represents Boolean values, which can be either `True` or `False`.\n",
    "\n",
    "4.complex- Represents complex numbers, which are composed of a real part and an imaginary part.\n",
    "5.str-Represents string values, which are sequences of characters."
   ]
  },
  {
   "cell_type": "markdown",
   "id": "1b3eac20-7012-4b7d-bdc3-e4877a340ad3",
   "metadata": {},
   "source": [
    "### int"
   ]
  },
  {
   "cell_type": "code",
   "execution_count": 12,
   "id": "14d19e04-9e97-44e4-b367-095cb6fce70f",
   "metadata": {},
   "outputs": [
    {
     "name": "stdout",
     "output_type": "stream",
     "text": [
      "89\n",
      "<class 'int'>\n"
     ]
    }
   ],
   "source": [
    "i = 89 # example of an integer\n",
    "print(i)\n",
    "print(type(i))"
   ]
  },
  {
   "cell_type": "markdown",
   "id": "0dacfc80-5d2a-4eca-a026-4e8f834cc026",
   "metadata": {},
   "source": [
    "### float"
   ]
  },
  {
   "cell_type": "code",
   "execution_count": 5,
   "id": "0019477f-ecae-4568-8b33-18fcd3539806",
   "metadata": {},
   "outputs": [
    {
     "name": "stdout",
     "output_type": "stream",
     "text": [
      "88.3\n",
      "<class 'float'>\n"
     ]
    }
   ],
   "source": [
    "f = 88.3 # example of an float\n",
    "print(f)\n",
    "print(type(f))"
   ]
  },
  {
   "cell_type": "markdown",
   "id": "b88e1458-bf06-4c7f-b4ec-2c0706b143e2",
   "metadata": {},
   "source": [
    "### bool"
   ]
  },
  {
   "cell_type": "code",
   "execution_count": 16,
   "id": "6a756211-4e70-4b9d-8fb9-c2459220a453",
   "metadata": {},
   "outputs": [
    {
     "name": "stdout",
     "output_type": "stream",
     "text": [
      "True\n",
      "<class 'bool'>\n"
     ]
    }
   ],
   "source": [
    "b = True # example of an bool\n",
    "print(b )\n",
    "print(type(b ))"
   ]
  },
  {
   "cell_type": "code",
   "execution_count": null,
   "id": "80a138de-1966-4fbb-8769-1a594814abfa",
   "metadata": {},
   "outputs": [],
   "source": [
    "b1 = False # example of an bool\n",
    "print(b1)\n",
    "print(type(b1))"
   ]
  },
  {
   "cell_type": "code",
   "execution_count": 22,
   "id": "b56eb971-6991-41d0-99df-1013cfe1b8ca",
   "metadata": {},
   "outputs": [
    {
     "name": "stdout",
     "output_type": "stream",
     "text": [
      "(1+2j)\n",
      "<class 'complex'>\n"
     ]
    }
   ],
   "source": [
    "c = 1+2j # example of an complex\n",
    "print(c)\n",
    "print(type(c))"
   ]
  },
  {
   "cell_type": "markdown",
   "id": "0d530295-a002-4e0c-a8d6-7099277437bd",
   "metadata": {},
   "source": [
    "### str (string)\n",
    "Strings can be defined using either single quotes or double quotes."
   ]
  },
  {
   "cell_type": "code",
   "execution_count": 20,
   "id": "b835a02c-4858-48fe-b0c8-672f36a4676d",
   "metadata": {},
   "outputs": [
    {
     "name": "stdout",
     "output_type": "stream",
     "text": [
      "Generative AI\n",
      "<class 'str'>\n"
     ]
    }
   ],
   "source": [
    "s1 = 'Generative AI'# String defined with single quotes\n",
    "print(s1)\n",
    "print(type(s1))"
   ]
  },
  {
   "cell_type": "code",
   "execution_count": 24,
   "id": "239fb47b-6f42-4e3a-9f14-ff551125aea5",
   "metadata": {},
   "outputs": [
    {
     "name": "stdout",
     "output_type": "stream",
     "text": [
      "Data\n",
      "<class 'str'>\n"
     ]
    }
   ],
   "source": [
    "s2 = \"Data\" # String defined with double quotes\n",
    "print(s2)\n",
    "print(type(s2))"
   ]
  },
  {
   "cell_type": "markdown",
   "id": "fa3e1bf5-2f76-47e7-9043-70e75658dd96",
   "metadata": {},
   "source": [
    "--------------------------------------------------------------------------------------------------------------------------------------------------------\n",
    "# Is Python an Interpreted or Compiled Language?\n",
    "\n",
    "**Interpreted Language:** This is a language where the code is executed directly by a program called an interpreter. The interpreter reads and executes the code line by line or statement by statement without converting it into machine code beforehand.\n",
    "\n",
    "**Compiled Language:** This is a language where the code is first translated into machine code by a program called a compiler. The resulting machine code is then executed directly by the computer's processor.\n",
    "\n",
    "Python is often described as both an interpreted and a partially compiled language. Here's why:\n",
    "\n",
    "## Bytecode Compilation\n",
    "\n",
    "When you run a Python script, the Python interpreter first compiles the source code (`.py` files) into bytecode (`.pyc` files). Bytecode is an intermediate, platform-independent representation of your source code.\n",
    "\n",
    "## Interpreted Execution\n",
    "\n",
    "The bytecode is then executed by the Python Virtual Machine (PVM), which is the interpreter component of Python. The PVM interprets the bytecode instructions and executes them on the fly.\n",
    "em on the fly."
   ]
  },
  {
   "cell_type": "markdown",
   "id": "a9b1b7f5-9c9a-4305-8220-52d05e4d47f1",
   "metadata": {},
   "source": [
    "--------------------------------------------------------------------------------------------------------------------------------------------------------\n",
    "# Types of Errors in Python\n",
    "\n",
    "## **Compile-Time Errors**\n",
    "Errors that are detected by the interpreter before the code is executed. They are related to syntax and structure issues in the code.\n",
    "\n",
    "## **Runtime Errors**\n",
    "Errors that occur during the execution of the program. These errors are detected while the code is running and can cause the program to crash or produce incorrect results.\n",
    "\n",
    "## **Logical Errors**\n",
    "Errors where the program runs without crashing but produces incorrect results due to mistakes in the logic of the code. These errors do not generate specific error messages and require debugging to identify.\n"
   ]
  }
 ],
 "metadata": {
  "kernelspec": {
   "display_name": "Python 3 (ipykernel)",
   "language": "python",
   "name": "python3"
  },
  "language_info": {
   "codemirror_mode": {
    "name": "ipython",
    "version": 3
   },
   "file_extension": ".py",
   "mimetype": "text/x-python",
   "name": "python",
   "nbconvert_exporter": "python",
   "pygments_lexer": "ipython3",
   "version": "3.12.4"
  }
 },
 "nbformat": 4,
 "nbformat_minor": 5
}
